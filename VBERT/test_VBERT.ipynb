{
 "cells": [
  {
   "cell_type": "code",
   "execution_count": 19,
   "metadata": {},
   "outputs": [
    {
     "name": "stdout",
     "output_type": "stream",
     "text": [
      "loading configuration file cache\n",
      "loading weights file https://cdn.huggingface.co/unc-nlp/frcnn-vg-finetuned/pytorch_model.bin from cache at /Users/theoh/.cache/torch/transformers/57f6df6abe353be2773f2700159c65615babf39ab5b48114d2b49267672ae10f.77b59256a4cf8343ae0f923246a81489fc8d82f98d082edc2d2037c977c0d9d0\n",
      "All model checkpoint weights were used when initializing GeneralizedRCNN.\n",
      "\n",
      "All the weights of GeneralizedRCNN were initialized from the model checkpoint at unc-nlp/frcnn-vg-finetuned.\n",
      "If your task is similar to the task the model of the checkpoint was trained on, you can already use GeneralizedRCNN for predictions without further training.\n",
      "Answer: [unused200] [unused6] [unused14] [unused347] [unused138] [unused665] [unused678] [unused571] [unused7] [unused73] [unused179] [unused336] [unused336] [unused336] [unused336] [unused336] [unused336] [unused336] [unused336] [unused336] [unused336] [unused336] [unused336] [unused336] [unused336] [unused336] [unused336] [unused336] [unused336] [unused336] [unused336] [unused336] [unused336] [unused336] [unused336] [unused336] [unused336] [unused336] [unused336] [unused336] [unused336] [unused336] [unused336] [unused336]\n"
     ]
    }
   ],
   "source": [
    "import torch\n",
    "from transformers import BertTokenizer, VisualBertModel\n",
    "\n",
    "from utils import Config\n",
    "from modeling_frcnn import GeneralizedRCNN\n",
    "from processing_image import Preprocess\n",
    "\n",
    "from PIL import Image\n",
    "from torchvision.transforms import ToTensor\n",
    "\n",
    "image_path = \"../hateful_memes/img/01235.png\"\n",
    "\n",
    "model = VisualBertModel.from_pretrained(\"uclanlp/visualbert-vqa-coco-pre\")\n",
    "tokenizer = BertTokenizer.from_pretrained(\"google-bert/bert-base-uncased\")\n",
    "\n",
    "class ImageProcessor:\n",
    "    def __init__(self, device):\n",
    "        frcnn_cfg = Config.from_pretrained(\"unc-nlp/frcnn-vg-finetuned\")\n",
    "        frcnn_cfg.MODEL.DEVICE = device\n",
    "        self.device = device\n",
    "\n",
    "        self.frcnn = GeneralizedRCNN.from_pretrained(\"unc-nlp/frcnn-vg-finetuned\", config=frcnn_cfg)\n",
    "\n",
    "        self.frcnn_cfg = frcnn_cfg\n",
    "        self.image_preprocess = Preprocess(frcnn_cfg)\n",
    "\n",
    "    def get_visual_embeddings(self, image_path):\n",
    "        # run frcnn\n",
    "        images, sizes, scales_yx = self.image_preprocess(image_path)\n",
    "\n",
    "        output_dict = self.frcnn(\n",
    "            images,\n",
    "            sizes,\n",
    "            scales_yx=scales_yx,\n",
    "            padding=\"max_detections\",\n",
    "            max_detections=self.frcnn_cfg.max_detections,\n",
    "            return_tensors=\"pt\",\n",
    "        )\n",
    "        features = output_dict.get(\"roi_features\").detach().cpu()\n",
    "        return features\n",
    "\n",
    "inputs = tokenizer(\"What is the man eating?\", return_tensors=\"pt\")\n",
    "# this is a custom function that returns the visual embeddings given the image path\n",
    "visual_embeds = ImageProcessor(device=\"mps\").get_visual_embeddings(image_path)\n",
    "\n",
    "visual_token_type_ids = torch.ones(visual_embeds.shape[:-1], dtype=torch.long)\n",
    "visual_attention_mask = torch.ones(visual_embeds.shape[:-1], dtype=torch.float)\n",
    "inputs.update(\n",
    "    {\n",
    "        \"visual_embeds\": visual_embeds,\n",
    "        \"visual_token_type_ids\": visual_token_type_ids,\n",
    "        \"visual_attention_mask\": visual_attention_mask,\n",
    "    }\n",
    ")\n",
    "outputs = model(**inputs)"
   ]
  },
  {
   "cell_type": "code",
   "execution_count": null,
   "metadata": {},
   "outputs": [],
   "source": []
  }
 ],
 "metadata": {
  "kernelspec": {
   "display_name": "DeepLearning",
   "language": "python",
   "name": "python3"
  },
  "language_info": {
   "codemirror_mode": {
    "name": "ipython",
    "version": 3
   },
   "file_extension": ".py",
   "mimetype": "text/x-python",
   "name": "python",
   "nbconvert_exporter": "python",
   "pygments_lexer": "ipython3",
   "version": "3.12.2"
  }
 },
 "nbformat": 4,
 "nbformat_minor": 2
}
