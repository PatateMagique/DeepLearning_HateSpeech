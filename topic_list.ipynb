{
 "cells": [
  {
   "cell_type": "markdown",
   "metadata": {},
   "source": [
    "# DeepLearning Hate Speech\n",
    "This notebook contains our project implementation, the instructions to run the notebook and explanations.\n",
    "\n",
    "#### 1.1 Imports"
   ]
  },
  {
   "cell_type": "code",
   "execution_count": 1,
   "metadata": {},
   "outputs": [],
   "source": [
    "import os\n",
    "import json\n",
    "import numpy as np\n",
    "import random\n",
    "import torch"
   ]
  },
  {
   "cell_type": "code",
   "execution_count": 2,
   "metadata": {},
   "outputs": [],
   "source": [
    "# Define the directory paths\n",
    "destination_dir  = \"hateful_memes/\"\n",
    "train_json       = \"hateful_memes/train.jsonl\"\n",
    "test_seen_json   = \"hateful_memes/test_seen.jsonl\"\n",
    "test_unseen_json = \"hateful_memes/test_unseen.jsonl\""
   ]
  },
  {
   "cell_type": "code",
   "execution_count": 3,
   "metadata": {},
   "outputs": [
    {
     "name": "stdout",
     "output_type": "stream",
     "text": [
      "File: train.jsonl\n",
      "Womens  : 524, Harm Rate: 0.39, Label 0: 321, Label 1: 203\n",
      "Africans: 372, Harm Rate: 0.69, Label 0: 116, Label 1: 256\n",
      "Muslims : 332, Harm Rate: 0.72, Label 0: 94, Label 1: 238\n",
      "LGBTQ   : 150, Harm Rate: 0.75, Label 0: 37, Label 1: 113\n",
      "Jews    : 100, Harm Rate: 0.7, Label 0: 30, Label 1: 70\n",
      "Politics: 62, Harm Rate: 0.4, Label 0: 37, Label 1: 25\n",
      "Asians  : 60, Harm Rate: 0.63, Label 0: 22, Label 1: 38\n",
      "Disable : 46, Harm Rate: 0.8, Label 0: 9, Label 1: 37\n",
      "Homeless: 31, Harm Rate: 0.39, Label 0: 19, Label 1: 12\n",
      "Natives : 15, Harm Rate: 0.27, Label 0: 11, Label 1: 4\n",
      "Latinos : 1, Harm Rate: 1.0, Label 0: 0, Label 1: 1\n"
     ]
    }
   ],
   "source": [
    "keywords = {\n",
    "    \"Womens  \": [\"woman\", \"she\", \"her\", \"female\", \"feminine\", \"lady\", \"girl\", \"feminist\", \"queen\", \"mother\", \"daughter\"],\n",
    "    \"Africans\": [\"black\", \"afro\", \"african\", \"ebony\", \"panafrican\", \"afroamerican\", \"nubian\", \"melanin\"],\n",
    "    \"Muslims \": [\"muslim\", \"arab\", \"coran\", \"islam\", \"islamic\", \"muslimah\", \"hijab\", \"sunni\", \"shiite\", \"halal\", \"mosque\"],\n",
    "    \"LGBTQ   \": [\"lgbt\", \"gay\", \"homo\", \"lesbian\", \"bisexual\", \"transgender\", \"queer\", \"pride\", \"rainbow\", \"drag\", \"trans\", \"nonbinary\"],\n",
    "    \"Jews    \": [\"jewish\", \"jew\", \"hebrew\", \"israeli\", \"yiddish\", \"semitic\", \"kosher\", \"rabbi\"],\n",
    "    \"Politics\": [\"activist\", \"protest\", \"demonstration\", \"rally\", \"activism\", \"campaign\", \"cause\", \"resist\", \"justice\", \"rights\"],\n",
    "    \"Asians  \": [\"asian\", \"chinese\", \"oriental\", \"eastasian\", \"japanese\", \"korean\", \"vietnamese\", \"filipino\", \"anime\", \"manga\"],\n",
    "    \"Disable \": [\"disabled\", \"retarded\", \"handicap\", \"disability\", \"impaired\", \"specialneeds\", \"wheelchair\", \"autism\", \"dyslexia\"],\n",
    "    \"Homeless\": [\"homeless\", \"poor\", \"beggar\", \"vagrant\", \"homelessness\", \"poverty\", \"shelter\", \"unemployed\", \"panhandler\"],\n",
    "    \"Natives \": [\"indigenous\", \"nativeamerican\", \"firstnations\", \"aboriginal\", \"tribal\", \"native\", \"reservation\", \"tribe\"],\n",
    "    \"Latinos \": [\"latino\", \"hispanic\", \"chicano\", \"mestizo\", \"latina\", \"latinx\", \"boricua\", \"tejano\"],\n",
    "}\n",
    "\n",
    "def count_keywords(file_path, keywords, verbosity = 0):\n",
    "    \"\"\"\n",
    "    This funtion reads a JSON file line by line, and counts the number of occurrences of keywords related to a topic in the text field of the JSON object.\n",
    "    It also stores the ids of the memes that contain a keyword, counts the number of labels 0 and 1 for each meme found and computes the harm rate.\n",
    "    Args:\n",
    "        file_path: str, path to the JSON file\n",
    "        keywords: dict, dictionary of keywords to search for in the specified file\n",
    "        verbosity: int, level of verbosity for output\n",
    "    Output:\n",
    "        keyword_info: dict, dictionary containing the counts, ids, and label counts for each keyword\n",
    "    \"\"\"\n",
    "    # Initialize a dictionary to store the counts, ids, and label counts\n",
    "    keyword_info = {key: {'count': 0, 'ids': [], 'harm_rate': 0, 'label_0': 0, 'label_1': 0} for key in keywords.keys()}\n",
    "    \n",
    "    # Open the JSON file\n",
    "    with open(file_path, 'r') as f:\n",
    "        # Iterate over the lines in the file\n",
    "        for line in f:\n",
    "            # Load the JSON object from the line\n",
    "            obj = json.loads(line)\n",
    "            # Split the text into words\n",
    "            words = obj['text'].split()\n",
    "\n",
    "            # Check each word against the keywords\n",
    "            for word in words:\n",
    "                for topic, topic_keywords in keywords.items():\n",
    "                    if word.lower() in topic_keywords:\n",
    "                        # Append the id to the corresponding topic in the ids dictionary\n",
    "                        if obj['id'] not in keyword_info[topic]['ids']:\n",
    "                            keyword_info[topic]['ids'].append(obj['id'])\n",
    "                            keyword_info[topic]['count'] += 1\n",
    "                            # Count the labels\n",
    "                            if obj['label'] == 0:\n",
    "                                keyword_info[topic]['label_0'] += 1\n",
    "                            elif obj['label'] == 1:\n",
    "                                keyword_info[topic]['label_1'] += 1\n",
    "                        break  # Stop checking other keywords once a keyword is found\n",
    "    # Compute the harm rate\n",
    "    for topic in keyword_info.keys():\n",
    "        #check if count is zero to avoid division by zero\n",
    "        if keyword_info[topic]['count'] == 0:\n",
    "            harm_rate = 0\n",
    "        else:\n",
    "            harm_rate = round(keyword_info[topic]['label_1'] / keyword_info[topic]['count'],2)\n",
    "        keyword_info[topic]['harm_rate'] = harm_rate\n",
    "    if verbosity > 0:\n",
    "        print(\"File:\", file_path[14:])\n",
    "        for topic, info in keyword_info.items():\n",
    "            print(f\"{topic}: {info['count']}, Harm Rate: {info['harm_rate']}, Label 0: {info['label_0']}, Label 1: {info['label_1']}\")\n",
    "    return keyword_info\n",
    "\n",
    "count_keywords(train_json, keywords, verbosity = 1);\n",
    "# count_keywords(test_seen_json, keywords, verbosity = 1);\n",
    "# count_keywords(test_unseen_json, keywords, verbosity = 1);"
   ]
  },
  {
   "cell_type": "markdown",
   "metadata": {},
   "source": [
    "We set the minimum number of memes for a topic to become a class to 300. Thus, only the topics \"Womens\", \"African\" and \"Muslims\" are kept as class."
   ]
  },
  {
   "cell_type": "code",
   "execution_count": 4,
   "metadata": {},
   "outputs": [
    {
     "name": "stdout",
     "output_type": "stream",
     "text": [
      "File written: hateful_memes/Womens  .jsonl\n",
      "File written: hateful_memes/Africans.jsonl\n",
      "File written: hateful_memes/Muslims .jsonl\n"
     ]
    }
   ],
   "source": [
    "def create_class_files(file_path, keyword_info, destination_dir):\n",
    "    \"\"\"\n",
    "    This function creates .jsonl files for each topic in the keyword_info dictionary that is big enough.\n",
    "    It combines the memes associated with the topic with an equal number of memes not associated with the topic.\n",
    "    args:\n",
    "        file_path: str, path to the original file\n",
    "        keyword_info: dict, dictionary containing the keyword information\n",
    "        destination_dir: str, directory to save the new files\n",
    "    returns:\n",
    "        None\n",
    "    \"\"\"\n",
    "    # Load all objects from the original file into a list\n",
    "    with open(file_path, 'r') as f:\n",
    "        all_objects = [json.loads(line) for line in f]\n",
    "\n",
    "    # Iterate over each topic in keyword_info\n",
    "    for topic, info in keyword_info.items():\n",
    "        # Check if the count is >= 300\n",
    "        if info['count'] >= 300:\n",
    "            # Get all objects associated with this topic\n",
    "            topic_objects = [obj for obj in all_objects if obj['id'] in info['ids']]\n",
    "            # Get all objects not associated with this topic\n",
    "            non_topic_objects = [obj for obj in all_objects if obj['id'] not in info['ids']]\n",
    "            # Randomly select a similar amount of non-topic objects\n",
    "            non_topic_objects = random.sample(non_topic_objects, len(topic_objects))\n",
    "            # Force the label of these non-topic objects to 0\n",
    "            for obj in non_topic_objects:\n",
    "                obj['label'] = 0\n",
    "            # Combine the topic and non-topic objects\n",
    "            combined_objects = topic_objects + non_topic_objects\n",
    "            # Create a new file name with the destination directory\n",
    "            file_name = os.path.join(destination_dir, f'{topic}.jsonl')\n",
    "            # Write the combined objects to a new .jsonl file\n",
    "            with open(file_name, 'w') as f:\n",
    "                for obj in combined_objects:\n",
    "                    f.write(json.dumps(obj) + '\\n')\n",
    "            print(f\"File written: {file_name}\")\n",
    "\n",
    "create_class_files(train_json, count_keywords(train_json, keywords, verbosity = 0), destination_dir);"
   ]
  },
  {
   "cell_type": "code",
   "execution_count": 5,
   "metadata": {},
   "outputs": [
    {
     "name": "stdout",
     "output_type": "stream",
     "text": [
      "File: Womens  .jsonl\n",
      "Womens  : 524, Harm Rate: 0.39, Label 0: 321, Label 1: 203\n",
      "Africans: 40, Harm Rate: 0.28, Label 0: 29, Label 1: 11\n",
      "Muslims : 38, Harm Rate: 0.37, Label 0: 24, Label 1: 14\n",
      "File: Muslims .jsonl\n",
      "Womens  : 38, Harm Rate: 0.34, Label 0: 25, Label 1: 13\n",
      "Africans: 26, Harm Rate: 0.04, Label 0: 25, Label 1: 1\n",
      "Muslims : 332, Harm Rate: 0.64, Label 0: 119, Label 1: 213\n",
      "File: Africans.jsonl\n",
      "Womens  : 48, Harm Rate: 0.23, Label 0: 37, Label 1: 11\n",
      "Africans: 372, Harm Rate: 0.64, Label 0: 134, Label 1: 238\n",
      "Muslims : 15, Harm Rate: 0.07, Label 0: 14, Label 1: 1\n"
     ]
    }
   ],
   "source": [
    "refined_keywords = {\n",
    "    \"Womens  \": [\"woman\", \"she\", \"her\", \"female\", \"feminine\", \"lady\", \"girl\", \"feminist\", \"queen\", \"mother\", \"daughter\"],\n",
    "    \"Africans\": [\"black\", \"afro\", \"african\", \"ebony\", \"panafrican\", \"afroamerican\", \"nubian\", \"melanin\"],\n",
    "    \"Muslims \": [\"muslim\", \"arab\", \"coran\", \"islam\", \"islamic\", \"muslimah\", \"hijab\", \"sunni\", \"shiite\", \"halal\", \"mosque\"],\n",
    "}\n",
    "\n",
    "count_keywords(\"hateful_memes/Womens  .jsonl\", refined_keywords, verbosity = 1);\n",
    "count_keywords(\"hateful_memes/Muslims .jsonl\", refined_keywords, verbosity = 1);\n",
    "count_keywords(\"hateful_memes/Africans.jsonl\", refined_keywords, verbosity = 1);"
   ]
  },
  {
   "cell_type": "code",
   "execution_count": 6,
   "metadata": {},
   "outputs": [
    {
     "name": "stderr",
     "output_type": "stream",
     "text": [
      "Unused or unrecognized kwargs: padding.\n"
     ]
    },
    {
     "name": "stdout",
     "output_type": "stream",
     "text": [
      "The probability that the image is 'hateful meme' is 0.5500664710998535\n",
      "The probability that the image is 'not hateful meme' is 0.44993355870246887\n"
     ]
    }
   ],
   "source": [
    "from PIL import Image\n",
    "import requests\n",
    "from transformers import CLIPProcessor, CLIPModel\n",
    "\n",
    "model = CLIPModel.from_pretrained(\"openai/clip-vit-base-patch32\")\n",
    "processor = CLIPProcessor.from_pretrained(\"openai/clip-vit-base-patch32\")\n",
    "\n",
    "image = Image.open(\"hateful_memes/img/01235.png\")\n",
    "\n",
    "#show the image\n",
    "#image.show()\n",
    "\n",
    "inputs = processor(text=[\"hateful meme\", \"not hateful meme\"], images=[image], return_tensors=\"pt\", padding=True)\n",
    "\n",
    "outputs = model(**inputs)\n",
    "logits_per_image = outputs.logits_per_image  # this is the image-text similarity score\n",
    "probs = logits_per_image.softmax(dim=1)  # we can take the softmax to get the label probabilities\n",
    "\n",
    "# Get the list of texts\n",
    "texts = [\"hateful meme\", \"not hateful meme\"]\n",
    "\n",
    "# Convert the probabilities tensor to a list\n",
    "probs_list = probs.tolist()[0]\n",
    "\n",
    "# Print the probabilities associated with each text\n",
    "for i in range(len(texts)):\n",
    "    print(f\"The probability that the image is '{texts[i]}' is {probs_list[i]}\")"
   ]
  },
  {
   "cell_type": "code",
   "execution_count": null,
   "metadata": {},
   "outputs": [],
   "source": [
    "# from PIL import Image\n",
    "# from transformers import CLIPProcessor, CLIPModel\n",
    "\n",
    "# # Initialize the model and processor\n",
    "# model = CLIPModel.from_pretrained(\"openai/clip-vit-base-patch32\")\n",
    "# processor = CLIPProcessor.from_pretrained(\"openai/clip-vit-base-patch32\")\n",
    "\n",
    "# # Load the image\n",
    "# image = Image.open(\"hateful_memes/img/01235.png\")\n",
    "\n",
    "# # Retrieve the caption for the meme\n",
    "# # This is a placeholder function. Replace it with your actual method to fetch the caption.\n",
    "# def get_meme_caption(meme_id):\n",
    "#     # Example: return \"This is a caption for a meme\"\n",
    "#     return \"when you're feeling horny asf but your habibi is on periods let's try a goat\"\n",
    "\n",
    "# # Example meme ID\n",
    "# meme_id = \"01235\"\n",
    "# caption = get_meme_caption(meme_id)\n",
    "\n",
    "# # Combine the caption with the predefined descriptions\n",
    "# input_texts = [\"hateful meme with caption: when you're feeling horny asf but your habibi is on periods let's try a goat\", \"not hateful meme with caption: when you're feeling horny asf but your habibi is on periods let's try a goat\"]\n",
    "\n",
    "# # Process the inputs\n",
    "# inputs = processor(text=input_texts, images=[image], return_tensors=\"pt\", padding=True)\n",
    "\n",
    "# # Perform the classification\n",
    "# outputs = model(**inputs)\n",
    "# logits_per_image = outputs.logits_per_image\n",
    "# probs = logits_per_image.softmax(dim=1)\n",
    "\n",
    "# # Convert the probabilities tensor to a list\n",
    "# probs_list = probs.tolist()[0]\n",
    "\n",
    "# # Print the probabilities associated with each text\n",
    "# texts = input_texts\n",
    "# for i in range(len(texts)):\n",
    "#     print(f\"The probability that the image is '{texts[i]}' is {probs_list[i]}\")"
   ]
  },
  {
   "cell_type": "code",
   "execution_count": null,
   "metadata": {},
   "outputs": [],
   "source": [
    "# import requests\n",
    "# from PIL import Image\n",
    "# from transformers import AutoProcessor, Blip2ForConditionalGeneration\n",
    "\n",
    "# processor = AutoProcessor.from_pretrained(\"Salesforce/blip2-opt-2.7b\")\n",
    "# model = Blip2ForConditionalGeneration.from_pretrained(\"Salesforce/blip2-opt-2.7b\", torch_dtype=torch.float16)\n",
    "\n",
    "# device = \"mps\"\n",
    "# model.to(device)\n",
    "\n",
    "# inputs = processor(image, return_tensors=\"pt\").to(device, torch.float16)\n",
    "\n",
    "# generated_ids = model.generate(**inputs, max_new_tokens=20)\n",
    "# generated_text = processor.batch_decode(generated_ids, skip_special_tokens=True)[0].strip()\n",
    "# print(generated_text)"
   ]
  },
  {
   "cell_type": "code",
   "execution_count": null,
   "metadata": {},
   "outputs": [],
   "source": [
    "# from PIL import Image\n",
    "# import requests\n",
    "# from transformers import AutoProcessor, FlavaModel\n",
    "\n",
    "# model = FlavaModel.from_pretrained(\"facebook/flava-full\")\n",
    "# processor = AutoProcessor.from_pretrained(\"facebook/flava-full\")\n",
    "\n",
    "# url = \"http://images.cocodataset.org/val2017/000000039769.jpg\"\n",
    "# image = Image.open(requests.get(url, stream=True).raw)\n",
    "\n",
    "# image.show()\n",
    "\n",
    "# inputs = processor(text=[\"a photo of a cat\"], images=image, return_tensors=\"pt\", padding=True)\n",
    "\n",
    "# outputs = model(**inputs)\n",
    "\n",
    "# from sklearn.metrics.pairwise import cosine_similarity\n",
    "\n",
    "# # Your existing code...\n",
    "# # ...\n",
    "# image_embeddings = outputs.image_embeddings\n",
    "# text_embeddings = outputs.text_embeddings\n",
    "# multimodal_embeddings = outputs.multimodal_embeddings\n",
    "\n",
    "# outputs.image_embeddings.shape\n",
    "# torch.Size([1, 197, 768])\n",
    "\n",
    "# text_embeddings.shape\n",
    "# torch.Size([1, 7, 768])\n",
    "\n",
    "# multimodal_embeddings.shape\n",
    "# torch.Size([1, 205, 768])\n",
    "\n",
    "# # Calculate the mean of the embeddings across the sequence length dimension\n",
    "# mean_image_embeddings = image_embeddings.mean(dim=1)\n",
    "# mean_text_embeddings = text_embeddings.mean(dim=1)\n",
    "\n",
    "# # Calculate the cosine similarity\n",
    "# similarity = cosine_similarity(mean_image_embeddings.detach().numpy(), mean_text_embeddings.detach().numpy())\n",
    "\n",
    "# print(f\"Cosine similarity between the text and the image: {similarity[0][0]}\")"
   ]
  },
  {
   "cell_type": "code",
   "execution_count": null,
   "metadata": {},
   "outputs": [],
   "source": []
  }
 ],
 "metadata": {
  "kernelspec": {
   "display_name": "DeepLearning",
   "language": "python",
   "name": "python3"
  },
  "language_info": {
   "codemirror_mode": {
    "name": "ipython",
    "version": 3
   },
   "file_extension": ".py",
   "mimetype": "text/x-python",
   "name": "python",
   "nbconvert_exporter": "python",
   "pygments_lexer": "ipython3",
   "version": "3.12.2"
  }
 },
 "nbformat": 4,
 "nbformat_minor": 2
}
