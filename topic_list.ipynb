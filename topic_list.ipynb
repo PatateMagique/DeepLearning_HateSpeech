{
 "cells": [
  {
   "cell_type": "markdown",
   "metadata": {},
   "source": [
    "# DeepLearning Hate Speech\n",
    "This notebook contains our project implementation, the instructions to run the notebook and explanations.\n",
    "\n",
    "#### 1.1 Imports"
   ]
  },
  {
   "cell_type": "code",
   "execution_count": 111,
   "metadata": {},
   "outputs": [],
   "source": [
    "import os\n",
    "import json\n",
    "import numpy as np\n",
    "import random"
   ]
  },
  {
   "cell_type": "code",
   "execution_count": 112,
   "metadata": {},
   "outputs": [],
   "source": [
    "# Define the directory paths\n",
    "destination_dir  = \"hateful_memes/\"\n",
    "train_json       = \"hateful_memes/train.jsonl\"\n",
    "test_seen_json   = \"hateful_memes/test_seen.jsonl\"\n",
    "test_unseen_json = \"hateful_memes/test_unseen.jsonl\""
   ]
  },
  {
   "cell_type": "code",
   "execution_count": 118,
   "metadata": {},
   "outputs": [
    {
     "name": "stdout",
     "output_type": "stream",
     "text": [
      "File: train.jsonl\n",
      "Womens  : 524, Harm Rate: 0.39, Label 0: 321, Label 1: 203\n",
      "Africans: 372, Harm Rate: 0.69, Label 0: 116, Label 1: 256\n",
      "Muslims : 332, Harm Rate: 0.72, Label 0: 94, Label 1: 238\n",
      "LGBTQ   : 150, Harm Rate: 0.75, Label 0: 37, Label 1: 113\n",
      "Jews    : 100, Harm Rate: 0.7, Label 0: 30, Label 1: 70\n",
      "Politics: 62, Harm Rate: 0.4, Label 0: 37, Label 1: 25\n",
      "Asians  : 60, Harm Rate: 0.63, Label 0: 22, Label 1: 38\n",
      "Disable : 46, Harm Rate: 0.8, Label 0: 9, Label 1: 37\n",
      "Homeless: 31, Harm Rate: 0.39, Label 0: 19, Label 1: 12\n",
      "Natives : 15, Harm Rate: 0.27, Label 0: 11, Label 1: 4\n",
      "Latinos : 1, Harm Rate: 1.0, Label 0: 0, Label 1: 1\n"
     ]
    }
   ],
   "source": [
    "keywords = {\n",
    "    \"Womens  \": [\"woman\", \"she\", \"her\", \"female\", \"feminine\", \"lady\", \"girl\", \"feminist\", \"queen\", \"mother\", \"daughter\"],\n",
    "    \"Africans\": [\"black\", \"afro\", \"african\", \"ebony\", \"panafrican\", \"afroamerican\", \"nubian\", \"melanin\"],\n",
    "    \"Muslims \": [\"muslim\", \"arab\", \"coran\", \"islam\", \"islamic\", \"muslimah\", \"hijab\", \"sunni\", \"shiite\", \"halal\", \"mosque\"],\n",
    "    \"LGBTQ   \": [\"lgbt\", \"gay\", \"homo\", \"lesbian\", \"bisexual\", \"transgender\", \"queer\", \"pride\", \"rainbow\", \"drag\", \"trans\", \"nonbinary\"],\n",
    "    \"Jews    \": [\"jewish\", \"jew\", \"hebrew\", \"israeli\", \"yiddish\", \"semitic\", \"kosher\", \"rabbi\"],\n",
    "    \"Politics\": [\"activist\", \"protest\", \"demonstration\", \"rally\", \"activism\", \"campaign\", \"cause\", \"resist\", \"justice\", \"rights\"],\n",
    "    \"Asians  \": [\"asian\", \"chinese\", \"oriental\", \"eastasian\", \"japanese\", \"korean\", \"vietnamese\", \"filipino\", \"anime\", \"manga\"],\n",
    "    \"Disable \": [\"disabled\", \"retarded\", \"handicap\", \"disability\", \"impaired\", \"specialneeds\", \"wheelchair\", \"autism\", \"dyslexia\"],\n",
    "    \"Homeless\": [\"homeless\", \"poor\", \"beggar\", \"vagrant\", \"homelessness\", \"poverty\", \"shelter\", \"unemployed\", \"panhandler\"],\n",
    "    \"Natives \": [\"indigenous\", \"nativeamerican\", \"firstnations\", \"aboriginal\", \"tribal\", \"native\", \"reservation\", \"tribe\"],\n",
    "    \"Latinos \": [\"latino\", \"hispanic\", \"chicano\", \"mestizo\", \"latina\", \"latinx\", \"boricua\", \"tejano\"],\n",
    "}\n",
    "\n",
    "def count_keywords(file_path, keywords, verbosity = 0):\n",
    "    \"\"\"\n",
    "    This funtion reads a JSON file line by line, and counts the number of occurrences of keywords related to a topic in the text field of the JSON object.\n",
    "    It also stores the ids of the memes that contain a keyword, counts the number of labels 0 and 1 for each meme found and computes the harm rate.\n",
    "    Args:\n",
    "        file_path: str, path to the JSON file\n",
    "        keywords: dict, dictionary of keywords to search for in the specified file\n",
    "        verbosity: int, level of verbosity for output\n",
    "    Output:\n",
    "        keyword_info: dict, dictionary containing the counts, ids, and label counts for each keyword\n",
    "    \"\"\"\n",
    "    # Initialize a dictionary to store the counts, ids, and label counts\n",
    "    keyword_info = {key: {'count': 0, 'ids': [], 'harm_rate': 0, 'label_0': 0, 'label_1': 0} for key in keywords.keys()}\n",
    "    \n",
    "    # Open the JSON file\n",
    "    with open(file_path, 'r') as f:\n",
    "        # Iterate over the lines in the file\n",
    "        for line in f:\n",
    "            # Load the JSON object from the line\n",
    "            obj = json.loads(line)\n",
    "            # Split the text into words\n",
    "            words = obj['text'].split()\n",
    "\n",
    "            # Check each word against the keywords\n",
    "            for word in words:\n",
    "                for topic, topic_keywords in keywords.items():\n",
    "                    if word.lower() in topic_keywords:\n",
    "                        # Append the id to the corresponding topic in the ids dictionary\n",
    "                        if obj['id'] not in keyword_info[topic]['ids']:\n",
    "                            keyword_info[topic]['ids'].append(obj['id'])\n",
    "                            keyword_info[topic]['count'] += 1\n",
    "                            # Count the labels\n",
    "                            if obj['label'] == 0:\n",
    "                                keyword_info[topic]['label_0'] += 1\n",
    "                            elif obj['label'] == 1:\n",
    "                                keyword_info[topic]['label_1'] += 1\n",
    "                        break  # Stop checking other keywords once a keyword is found\n",
    "    # Compute the harm rate\n",
    "    for topic in keyword_info.keys():\n",
    "        #check if count is zero to avoid division by zero\n",
    "        if keyword_info[topic]['count'] == 0:\n",
    "            harm_rate = 0\n",
    "        else:\n",
    "            harm_rate = round(keyword_info[topic]['label_1'] / keyword_info[topic]['count'],2)\n",
    "        keyword_info[topic]['harm_rate'] = harm_rate\n",
    "    if verbosity > 0:\n",
    "        print(\"File:\", file_path[14:])\n",
    "        for topic, info in keyword_info.items():\n",
    "            print(f\"{topic}: {info['count']}, Harm Rate: {info['harm_rate']}, Label 0: {info['label_0']}, Label 1: {info['label_1']}\")\n",
    "    return keyword_info\n",
    "\n",
    "count_keywords(train_json, keywords, verbosity = 1);\n",
    "# count_keywords(test_seen_json, keywords, verbosity = 1);\n",
    "# count_keywords(test_unseen_json, keywords, verbosity = 1);"
   ]
  },
  {
   "cell_type": "markdown",
   "metadata": {},
   "source": [
    "We set the minimum number of memes for a topic to become a class to 300. Thus, only the topics \"Womens\", \"African\" and \"Muslims\" are kept as class."
   ]
  },
  {
   "cell_type": "code",
   "execution_count": 119,
   "metadata": {},
   "outputs": [
    {
     "name": "stdout",
     "output_type": "stream",
     "text": [
      "File written: hateful_memes/Womens  .jsonl\n",
      "File written: hateful_memes/Africans.jsonl\n",
      "File written: hateful_memes/Muslims .jsonl\n"
     ]
    }
   ],
   "source": [
    "def create_class_files(file_path, keyword_info, destination_dir):\n",
    "    \"\"\"\n",
    "    This function creates .jsonl files for each topic in the keyword_info dictionary that is big enough.\n",
    "    It combines the memes associated with the topic with an equal number of memes not associated with the topic.\n",
    "    args:\n",
    "        file_path: str, path to the original file\n",
    "        keyword_info: dict, dictionary containing the keyword information\n",
    "        destination_dir: str, directory to save the new files\n",
    "    returns:\n",
    "        None\n",
    "    \"\"\"\n",
    "    # Load all objects from the original file into a list\n",
    "    with open(file_path, 'r') as f:\n",
    "        all_objects = [json.loads(line) for line in f]\n",
    "\n",
    "    # Iterate over each topic in keyword_info\n",
    "    for topic, info in keyword_info.items():\n",
    "        # Check if the count is >= 300\n",
    "        if info['count'] >= 300:\n",
    "            # Get all objects associated with this topic\n",
    "            topic_objects = [obj for obj in all_objects if obj['id'] in info['ids']]\n",
    "            # Get all objects not associated with this topic\n",
    "            non_topic_objects = [obj for obj in all_objects if obj['id'] not in info['ids']]\n",
    "            # Randomly select a similar amount of non-topic objects\n",
    "            non_topic_objects = random.sample(non_topic_objects, len(topic_objects))\n",
    "            # Force the label of these non-topic objects to 0\n",
    "            for obj in non_topic_objects:\n",
    "                obj['label'] = 0\n",
    "            # Combine the topic and non-topic objects\n",
    "            combined_objects = topic_objects + non_topic_objects\n",
    "            # Create a new file name with the destination directory\n",
    "            file_name = os.path.join(destination_dir, f'{topic}.jsonl')\n",
    "            # Write the combined objects to a new .jsonl file\n",
    "            with open(file_name, 'w') as f:\n",
    "                for obj in combined_objects:\n",
    "                    f.write(json.dumps(obj) + '\\n')\n",
    "            print(f\"File written: {file_name}\")\n",
    "\n",
    "create_class_files(train_json, count_keywords(train_json, keywords, verbosity = 0), destination_dir);"
   ]
  },
  {
   "cell_type": "code",
   "execution_count": 122,
   "metadata": {},
   "outputs": [
    {
     "name": "stdout",
     "output_type": "stream",
     "text": [
      "File: Womens  .jsonl\n",
      "Womens  : 524, Harm Rate: 0.39, Label 0: 321, Label 1: 203\n",
      "Africans: 37, Harm Rate: 0.3, Label 0: 26, Label 1: 11\n",
      "Muslims : 39, Harm Rate: 0.36, Label 0: 25, Label 1: 14\n",
      "File: Muslims .jsonl\n",
      "Womens  : 37, Harm Rate: 0.35, Label 0: 24, Label 1: 13\n",
      "Africans: 16, Harm Rate: 0.06, Label 0: 15, Label 1: 1\n",
      "Muslims : 332, Harm Rate: 0.64, Label 0: 121, Label 1: 211\n",
      "File: Africans.jsonl\n",
      "Womens  : 46, Harm Rate: 0.24, Label 0: 35, Label 1: 11\n",
      "Africans: 372, Harm Rate: 0.65, Label 0: 129, Label 1: 243\n",
      "Muslims : 19, Harm Rate: 0.05, Label 0: 18, Label 1: 1\n"
     ]
    }
   ],
   "source": [
    "refined_keywords = {\n",
    "    \"Womens  \": [\"woman\", \"she\", \"her\", \"female\", \"feminine\", \"lady\", \"girl\", \"feminist\", \"queen\", \"mother\", \"daughter\"],\n",
    "    \"Africans\": [\"black\", \"afro\", \"african\", \"ebony\", \"panafrican\", \"afroamerican\", \"nubian\", \"melanin\"],\n",
    "    \"Muslims \": [\"muslim\", \"arab\", \"coran\", \"islam\", \"islamic\", \"muslimah\", \"hijab\", \"sunni\", \"shiite\", \"halal\", \"mosque\"],\n",
    "}\n",
    "\n",
    "count_keywords(\"hateful_memes/Womens  .jsonl\", refined_keywords, verbosity = 1);\n",
    "count_keywords(\"hateful_memes/Muslims .jsonl\", refined_keywords, verbosity = 1);\n",
    "count_keywords(\"hateful_memes/Africans.jsonl\", refined_keywords, verbosity = 1);"
   ]
  },
  {
   "cell_type": "code",
   "execution_count": null,
   "metadata": {},
   "outputs": [],
   "source": []
  }
 ],
 "metadata": {
  "kernelspec": {
   "display_name": "DeepLearning",
   "language": "python",
   "name": "python3"
  },
  "language_info": {
   "codemirror_mode": {
    "name": "ipython",
    "version": 3
   },
   "file_extension": ".py",
   "mimetype": "text/x-python",
   "name": "python",
   "nbconvert_exporter": "python",
   "pygments_lexer": "ipython3",
   "version": "3.12.2"
  }
 },
 "nbformat": 4,
 "nbformat_minor": 2
}
